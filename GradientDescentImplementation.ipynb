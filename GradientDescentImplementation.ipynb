{
 "cells": [
  {
   "cell_type": "code",
   "execution_count": 1,
   "metadata": {
    "collapsed": true
   },
   "outputs": [],
   "source": [
    "import pandas as pd\n",
    "import numpy as np\n",
    "import matplotlib.pyplot as plt\n",
    "import math\n",
    "from IPython.core.debugger import Tracer;"
   ]
  },
  {
   "cell_type": "code",
   "execution_count": 2,
   "metadata": {
    "collapsed": true
   },
   "outputs": [],
   "source": [
    "dataset = pd.read_csv(\"HLTVData/playerStats.csv\")\n"
   ]
  },
  {
   "cell_type": "code",
   "execution_count": 3,
   "metadata": {},
   "outputs": [
    {
     "data": {
      "text/html": [
       "<div>\n",
       "<style>\n",
       "    .dataframe thead tr:only-child th {\n",
       "        text-align: right;\n",
       "    }\n",
       "\n",
       "    .dataframe thead th {\n",
       "        text-align: left;\n",
       "    }\n",
       "\n",
       "    .dataframe tbody tr th {\n",
       "        vertical-align: top;\n",
       "    }\n",
       "</style>\n",
       "<table border=\"1\" class=\"dataframe\">\n",
       "  <thead>\n",
       "    <tr style=\"text-align: right;\">\n",
       "      <th></th>\n",
       "      <th>Map</th>\n",
       "      <th>Player</th>\n",
       "      <th>Kills</th>\n",
       "      <th>Deaths</th>\n",
       "      <th>ADR</th>\n",
       "      <th>KAST%</th>\n",
       "      <th>Rating</th>\n",
       "      <th>MatchID</th>\n",
       "    </tr>\n",
       "  </thead>\n",
       "  <tbody>\n",
       "    <tr>\n",
       "      <th>0</th>\n",
       "      <td>Nuke</td>\n",
       "      <td>4216</td>\n",
       "      <td>22</td>\n",
       "      <td>19</td>\n",
       "      <td>85.0</td>\n",
       "      <td>69.0</td>\n",
       "      <td>1.17</td>\n",
       "      <td>2311133/binary-dragons-vs-alpha-binary-dragons...</td>\n",
       "    </tr>\n",
       "    <tr>\n",
       "      <th>1</th>\n",
       "      <td>Nuke</td>\n",
       "      <td>3543</td>\n",
       "      <td>26</td>\n",
       "      <td>23</td>\n",
       "      <td>83.5</td>\n",
       "      <td>58.6</td>\n",
       "      <td>1.10</td>\n",
       "      <td>2311133/binary-dragons-vs-alpha-binary-dragons...</td>\n",
       "    </tr>\n",
       "    <tr>\n",
       "      <th>2</th>\n",
       "      <td>Nuke</td>\n",
       "      <td>3972</td>\n",
       "      <td>20</td>\n",
       "      <td>23</td>\n",
       "      <td>78.2</td>\n",
       "      <td>75.9</td>\n",
       "      <td>1.02</td>\n",
       "      <td>2311133/binary-dragons-vs-alpha-binary-dragons...</td>\n",
       "    </tr>\n",
       "    <tr>\n",
       "      <th>3</th>\n",
       "      <td>Nuke</td>\n",
       "      <td>2476</td>\n",
       "      <td>17</td>\n",
       "      <td>20</td>\n",
       "      <td>68.1</td>\n",
       "      <td>79.3</td>\n",
       "      <td>0.97</td>\n",
       "      <td>2311133/binary-dragons-vs-alpha-binary-dragons...</td>\n",
       "    </tr>\n",
       "    <tr>\n",
       "      <th>4</th>\n",
       "      <td>Nuke</td>\n",
       "      <td>2299</td>\n",
       "      <td>17</td>\n",
       "      <td>20</td>\n",
       "      <td>66.3</td>\n",
       "      <td>65.5</td>\n",
       "      <td>0.86</td>\n",
       "      <td>2311133/binary-dragons-vs-alpha-binary-dragons...</td>\n",
       "    </tr>\n",
       "    <tr>\n",
       "      <th>5</th>\n",
       "      <td>Nuke</td>\n",
       "      <td>11915</td>\n",
       "      <td>28</td>\n",
       "      <td>21</td>\n",
       "      <td>99.8</td>\n",
       "      <td>65.5</td>\n",
       "      <td>1.35</td>\n",
       "      <td>2311133/binary-dragons-vs-alpha-binary-dragons...</td>\n",
       "    </tr>\n",
       "    <tr>\n",
       "      <th>6</th>\n",
       "      <td>Nuke</td>\n",
       "      <td>12802</td>\n",
       "      <td>20</td>\n",
       "      <td>17</td>\n",
       "      <td>78.2</td>\n",
       "      <td>75.9</td>\n",
       "      <td>1.20</td>\n",
       "      <td>2311133/binary-dragons-vs-alpha-binary-dragons...</td>\n",
       "    </tr>\n",
       "    <tr>\n",
       "      <th>7</th>\n",
       "      <td>Nuke</td>\n",
       "      <td>7590</td>\n",
       "      <td>21</td>\n",
       "      <td>24</td>\n",
       "      <td>85.6</td>\n",
       "      <td>65.5</td>\n",
       "      <td>1.03</td>\n",
       "      <td>2311133/binary-dragons-vs-alpha-binary-dragons...</td>\n",
       "    </tr>\n",
       "    <tr>\n",
       "      <th>8</th>\n",
       "      <td>Nuke</td>\n",
       "      <td>2982</td>\n",
       "      <td>18</td>\n",
       "      <td>20</td>\n",
       "      <td>66.6</td>\n",
       "      <td>69.0</td>\n",
       "      <td>1.00</td>\n",
       "      <td>2311133/binary-dragons-vs-alpha-binary-dragons...</td>\n",
       "    </tr>\n",
       "    <tr>\n",
       "      <th>9</th>\n",
       "      <td>Nuke</td>\n",
       "      <td>9903</td>\n",
       "      <td>18</td>\n",
       "      <td>20</td>\n",
       "      <td>57.5</td>\n",
       "      <td>65.5</td>\n",
       "      <td>0.87</td>\n",
       "      <td>2311133/binary-dragons-vs-alpha-binary-dragons...</td>\n",
       "    </tr>\n",
       "    <tr>\n",
       "      <th>10</th>\n",
       "      <td>Cobblestone</td>\n",
       "      <td>2299</td>\n",
       "      <td>25</td>\n",
       "      <td>12</td>\n",
       "      <td>118.6</td>\n",
       "      <td>90.5</td>\n",
       "      <td>1.82</td>\n",
       "      <td>2311133/binary-dragons-vs-alpha-binary-dragons...</td>\n",
       "    </tr>\n",
       "    <tr>\n",
       "      <th>11</th>\n",
       "      <td>Cobblestone</td>\n",
       "      <td>3972</td>\n",
       "      <td>19</td>\n",
       "      <td>10</td>\n",
       "      <td>114.8</td>\n",
       "      <td>85.7</td>\n",
       "      <td>1.67</td>\n",
       "      <td>2311133/binary-dragons-vs-alpha-binary-dragons...</td>\n",
       "    </tr>\n",
       "    <tr>\n",
       "      <th>12</th>\n",
       "      <td>Cobblestone</td>\n",
       "      <td>4216</td>\n",
       "      <td>20</td>\n",
       "      <td>11</td>\n",
       "      <td>90.0</td>\n",
       "      <td>90.5</td>\n",
       "      <td>1.55</td>\n",
       "      <td>2311133/binary-dragons-vs-alpha-binary-dragons...</td>\n",
       "    </tr>\n",
       "    <tr>\n",
       "      <th>13</th>\n",
       "      <td>Cobblestone</td>\n",
       "      <td>3543</td>\n",
       "      <td>15</td>\n",
       "      <td>10</td>\n",
       "      <td>59.2</td>\n",
       "      <td>90.5</td>\n",
       "      <td>1.22</td>\n",
       "      <td>2311133/binary-dragons-vs-alpha-binary-dragons...</td>\n",
       "    </tr>\n",
       "    <tr>\n",
       "      <th>14</th>\n",
       "      <td>Cobblestone</td>\n",
       "      <td>2476</td>\n",
       "      <td>14</td>\n",
       "      <td>12</td>\n",
       "      <td>68.9</td>\n",
       "      <td>81.0</td>\n",
       "      <td>1.07</td>\n",
       "      <td>2311133/binary-dragons-vs-alpha-binary-dragons...</td>\n",
       "    </tr>\n",
       "    <tr>\n",
       "      <th>15</th>\n",
       "      <td>Cobblestone</td>\n",
       "      <td>11915</td>\n",
       "      <td>19</td>\n",
       "      <td>19</td>\n",
       "      <td>85.0</td>\n",
       "      <td>71.4</td>\n",
       "      <td>1.01</td>\n",
       "      <td>2311133/binary-dragons-vs-alpha-binary-dragons...</td>\n",
       "    </tr>\n",
       "    <tr>\n",
       "      <th>16</th>\n",
       "      <td>Cobblestone</td>\n",
       "      <td>9903</td>\n",
       "      <td>13</td>\n",
       "      <td>18</td>\n",
       "      <td>65.8</td>\n",
       "      <td>57.1</td>\n",
       "      <td>0.81</td>\n",
       "      <td>2311133/binary-dragons-vs-alpha-binary-dragons...</td>\n",
       "    </tr>\n",
       "    <tr>\n",
       "      <th>17</th>\n",
       "      <td>Cobblestone</td>\n",
       "      <td>7590</td>\n",
       "      <td>8</td>\n",
       "      <td>19</td>\n",
       "      <td>44.7</td>\n",
       "      <td>33.3</td>\n",
       "      <td>0.55</td>\n",
       "      <td>2311133/binary-dragons-vs-alpha-binary-dragons...</td>\n",
       "    </tr>\n",
       "    <tr>\n",
       "      <th>18</th>\n",
       "      <td>Cobblestone</td>\n",
       "      <td>2982</td>\n",
       "      <td>7</td>\n",
       "      <td>18</td>\n",
       "      <td>56.2</td>\n",
       "      <td>38.1</td>\n",
       "      <td>0.52</td>\n",
       "      <td>2311133/binary-dragons-vs-alpha-binary-dragons...</td>\n",
       "    </tr>\n",
       "    <tr>\n",
       "      <th>19</th>\n",
       "      <td>Cobblestone</td>\n",
       "      <td>12802</td>\n",
       "      <td>8</td>\n",
       "      <td>19</td>\n",
       "      <td>54.2</td>\n",
       "      <td>52.4</td>\n",
       "      <td>0.50</td>\n",
       "      <td>2311133/binary-dragons-vs-alpha-binary-dragons...</td>\n",
       "    </tr>\n",
       "  </tbody>\n",
       "</table>\n",
       "</div>"
      ],
      "text/plain": [
       "            Map  Player  Kills  Deaths    ADR  KAST%  Rating  \\\n",
       "0          Nuke    4216     22      19   85.0   69.0    1.17   \n",
       "1          Nuke    3543     26      23   83.5   58.6    1.10   \n",
       "2          Nuke    3972     20      23   78.2   75.9    1.02   \n",
       "3          Nuke    2476     17      20   68.1   79.3    0.97   \n",
       "4          Nuke    2299     17      20   66.3   65.5    0.86   \n",
       "5          Nuke   11915     28      21   99.8   65.5    1.35   \n",
       "6          Nuke   12802     20      17   78.2   75.9    1.20   \n",
       "7          Nuke    7590     21      24   85.6   65.5    1.03   \n",
       "8          Nuke    2982     18      20   66.6   69.0    1.00   \n",
       "9          Nuke    9903     18      20   57.5   65.5    0.87   \n",
       "10  Cobblestone    2299     25      12  118.6   90.5    1.82   \n",
       "11  Cobblestone    3972     19      10  114.8   85.7    1.67   \n",
       "12  Cobblestone    4216     20      11   90.0   90.5    1.55   \n",
       "13  Cobblestone    3543     15      10   59.2   90.5    1.22   \n",
       "14  Cobblestone    2476     14      12   68.9   81.0    1.07   \n",
       "15  Cobblestone   11915     19      19   85.0   71.4    1.01   \n",
       "16  Cobblestone    9903     13      18   65.8   57.1    0.81   \n",
       "17  Cobblestone    7590      8      19   44.7   33.3    0.55   \n",
       "18  Cobblestone    2982      7      18   56.2   38.1    0.52   \n",
       "19  Cobblestone   12802      8      19   54.2   52.4    0.50   \n",
       "\n",
       "                                              MatchID  \n",
       "0   2311133/binary-dragons-vs-alpha-binary-dragons...  \n",
       "1   2311133/binary-dragons-vs-alpha-binary-dragons...  \n",
       "2   2311133/binary-dragons-vs-alpha-binary-dragons...  \n",
       "3   2311133/binary-dragons-vs-alpha-binary-dragons...  \n",
       "4   2311133/binary-dragons-vs-alpha-binary-dragons...  \n",
       "5   2311133/binary-dragons-vs-alpha-binary-dragons...  \n",
       "6   2311133/binary-dragons-vs-alpha-binary-dragons...  \n",
       "7   2311133/binary-dragons-vs-alpha-binary-dragons...  \n",
       "8   2311133/binary-dragons-vs-alpha-binary-dragons...  \n",
       "9   2311133/binary-dragons-vs-alpha-binary-dragons...  \n",
       "10  2311133/binary-dragons-vs-alpha-binary-dragons...  \n",
       "11  2311133/binary-dragons-vs-alpha-binary-dragons...  \n",
       "12  2311133/binary-dragons-vs-alpha-binary-dragons...  \n",
       "13  2311133/binary-dragons-vs-alpha-binary-dragons...  \n",
       "14  2311133/binary-dragons-vs-alpha-binary-dragons...  \n",
       "15  2311133/binary-dragons-vs-alpha-binary-dragons...  \n",
       "16  2311133/binary-dragons-vs-alpha-binary-dragons...  \n",
       "17  2311133/binary-dragons-vs-alpha-binary-dragons...  \n",
       "18  2311133/binary-dragons-vs-alpha-binary-dragons...  \n",
       "19  2311133/binary-dragons-vs-alpha-binary-dragons...  "
      ]
     },
     "execution_count": 3,
     "metadata": {},
     "output_type": "execute_result"
    }
   ],
   "source": [
    "dataset.head(20)"
   ]
  },
  {
   "cell_type": "code",
   "execution_count": 4,
   "metadata": {
    "collapsed": true
   },
   "outputs": [],
   "source": [
    "#mat = dataset.as_matrix()\n",
    "#dataADR = dataset['ADR']\n",
    "#dataRaiting = dataset['Rating']\n",
    "#indexMatrix = np.array(range(dataset.shape[0]))"
   ]
  },
  {
   "cell_type": "code",
   "execution_count": 5,
   "metadata": {},
   "outputs": [
    {
     "data": {
      "text/html": [
       "<div>\n",
       "<style>\n",
       "    .dataframe thead tr:only-child th {\n",
       "        text-align: right;\n",
       "    }\n",
       "\n",
       "    .dataframe thead th {\n",
       "        text-align: left;\n",
       "    }\n",
       "\n",
       "    .dataframe tbody tr th {\n",
       "        vertical-align: top;\n",
       "    }\n",
       "</style>\n",
       "<table border=\"1\" class=\"dataframe\">\n",
       "  <thead>\n",
       "    <tr style=\"text-align: right;\">\n",
       "      <th></th>\n",
       "      <th>ADR</th>\n",
       "      <th>Rating</th>\n",
       "    </tr>\n",
       "  </thead>\n",
       "  <tbody>\n",
       "    <tr>\n",
       "      <th>0</th>\n",
       "      <td>85.0</td>\n",
       "      <td>117.0</td>\n",
       "    </tr>\n",
       "    <tr>\n",
       "      <th>1</th>\n",
       "      <td>83.5</td>\n",
       "      <td>110.0</td>\n",
       "    </tr>\n",
       "    <tr>\n",
       "      <th>2</th>\n",
       "      <td>78.2</td>\n",
       "      <td>102.0</td>\n",
       "    </tr>\n",
       "    <tr>\n",
       "      <th>3</th>\n",
       "      <td>68.1</td>\n",
       "      <td>97.0</td>\n",
       "    </tr>\n",
       "    <tr>\n",
       "      <th>4</th>\n",
       "      <td>66.3</td>\n",
       "      <td>86.0</td>\n",
       "    </tr>\n",
       "  </tbody>\n",
       "</table>\n",
       "</div>"
      ],
      "text/plain": [
       "    ADR  Rating\n",
       "0  85.0   117.0\n",
       "1  83.5   110.0\n",
       "2  78.2   102.0\n",
       "3  68.1    97.0\n",
       "4  66.3    86.0"
      ]
     },
     "execution_count": 5,
     "metadata": {},
     "output_type": "execute_result"
    }
   ],
   "source": [
    "dataSet = pd.read_csv(\"HLTVData/playerStats.csv\",usecols=['ADR','Rating'])\n",
    "dataSet['Rating'] = dataSet['Rating']*100\n",
    "dataSet.head()"
   ]
  },
  {
   "cell_type": "code",
   "execution_count": 6,
   "metadata": {},
   "outputs": [
    {
     "data": {
      "text/html": [
       "<div>\n",
       "<style>\n",
       "    .dataframe thead tr:only-child th {\n",
       "        text-align: right;\n",
       "    }\n",
       "\n",
       "    .dataframe thead th {\n",
       "        text-align: left;\n",
       "    }\n",
       "\n",
       "    .dataframe tbody tr th {\n",
       "        vertical-align: top;\n",
       "    }\n",
       "</style>\n",
       "<table border=\"1\" class=\"dataframe\">\n",
       "  <thead>\n",
       "    <tr style=\"text-align: right;\">\n",
       "      <th></th>\n",
       "      <th>ADR</th>\n",
       "      <th>Rating</th>\n",
       "    </tr>\n",
       "  </thead>\n",
       "  <tbody>\n",
       "    <tr>\n",
       "      <th>0</th>\n",
       "      <td>85.0</td>\n",
       "      <td>11700.0</td>\n",
       "    </tr>\n",
       "    <tr>\n",
       "      <th>1</th>\n",
       "      <td>83.5</td>\n",
       "      <td>11000.0</td>\n",
       "    </tr>\n",
       "    <tr>\n",
       "      <th>2</th>\n",
       "      <td>78.2</td>\n",
       "      <td>10200.0</td>\n",
       "    </tr>\n",
       "    <tr>\n",
       "      <th>3</th>\n",
       "      <td>68.1</td>\n",
       "      <td>9700.0</td>\n",
       "    </tr>\n",
       "    <tr>\n",
       "      <th>4</th>\n",
       "      <td>66.3</td>\n",
       "      <td>8600.0</td>\n",
       "    </tr>\n",
       "  </tbody>\n",
       "</table>\n",
       "</div>"
      ],
      "text/plain": [
       "    ADR   Rating\n",
       "0  85.0  11700.0\n",
       "1  83.5  11000.0\n",
       "2  78.2  10200.0\n",
       "3  68.1   9700.0\n",
       "4  66.3   8600.0"
      ]
     },
     "execution_count": 6,
     "metadata": {},
     "output_type": "execute_result"
    }
   ],
   "source": [
    "dataSet['Rating'] = dataSet['Rating']*100\n",
    "dataSet.head()"
   ]
  },
  {
   "cell_type": "code",
   "execution_count": 7,
   "metadata": {
    "collapsed": true
   },
   "outputs": [],
   "source": [
    "#this never worked\n",
    "#4 is the ADR and 6 is the Rating\n",
    "#s = pd.DataFrame(dataset, index=indexMatrix,columns=(mat[:,4],mat[:,6]) )\n",
    "#s = pd.DataFrame(dataset, index=np.array(range(dataset.shape[0])), columns=dataset['ADR'])"
   ]
  },
  {
   "cell_type": "code",
   "execution_count": 8,
   "metadata": {
    "scrolled": true
   },
   "outputs": [
    {
     "data": {
      "image/png": "[encoded data removed]",
      "text/plain": [
       "<matplotlib.figure.Figure at 0x7fb059106160>"
      ]
     },
     "metadata": {},
     "output_type": "display_data"
    }
   ],
   "source": [
    "X= np.array(dataSet['ADR'])\n",
    "y = np.array(dataSet['Rating'])\n",
    "plt.scatter(X,y)\n",
    "plt.xlabel('ADR')\n",
    "plt.ylabel('Rating')\n",
    "plt.show()"
   ]
  },
  {
   "cell_type": "code",
   "execution_count": 9,
   "metadata": {},
   "outputs": [
    {
     "data": {
      "text/plain": [
       "83.5"
      ]
     },
     "execution_count": 9,
     "metadata": {},
     "output_type": "execute_result"
    }
   ],
   "source": [
    "data = np.array(dataSet)\n",
    "data\n",
    "data[1,0]"
   ]
  },
  {
   "cell_type": "code",
   "execution_count": 10,
   "metadata": {
    "collapsed": true
   },
   "outputs": [],
   "source": [
    "def SSE(m,b,data):\n",
    "    totalError=0.0\n",
    "    totalNan = 0\n",
    "    for i in range(data.shape[0]):\n",
    "        if(math.isnan(data[i,0])):\n",
    "            totalNan +=1\n",
    "        else:\n",
    "            yOutput = m*data[i,0]+b\n",
    "            y = data[i,1]\n",
    "            error = (y-yOutput)**2\n",
    "            totalError =totalError+ error\n",
    "    return totalError\n",
    "        "
   ]
  },
  {
   "cell_type": "code",
   "execution_count": 11,
   "metadata": {},
   "outputs": [
    {
     "data": {
      "image/png": "[encoded data removed]",
      "text/plain": [
       "<matplotlib.figure.Figure at 0x7fb0569d9198>"
      ]
     },
     "metadata": {},
     "output_type": "display_data"
    }
   ],
   "source": [
    "m = 5\n",
    "b = 3\n",
    "plt.scatter(X,y)\n",
    "plt.plot(X,m*X+b,color='red')\n",
    "plt.show()"
   ]
  },
  {
   "cell_type": "code",
   "execution_count": 12,
   "metadata": {},
   "outputs": [
    {
     "name": "stdout",
     "output_type": "stream",
     "text": [
      "For the fitting line: y = 5x + 3\n",
      "SSE: 21208810622913.50\n"
     ]
    }
   ],
   "source": [
    "sse = SSE(m,b,data)\n",
    "print('For the fitting line: y = %sx + %s\\nSSE: %.2f' %(m,b,sse))"
   ]
  },
  {
   "cell_type": "code",
   "execution_count": 15,
   "metadata": {
    "collapsed": true
   },
   "outputs": [],
   "source": [
    "def gradient_descent_step(m,b,data):\n",
    "    \n",
    "    n_points = data.shape[0] #size of data\n",
    "    m_grad = 0\n",
    "    b_grad = 0\n",
    "    stepper = 0.0001 #this is the learning rate\n",
    "    \n",
    "    for i in range(n_points):\n",
    "\n",
    "        #Get current pair (x,y)\n",
    "        x = data[i,0]\n",
    "        y = data[i,1]\n",
    "        if(math.isnan(x)|math.isnan(y)): #it will prevent for crashing when some data is missing\n",
    "            #print(\"is nan\")\n",
    "            continue\n",
    "        \n",
    "        #you will calculate the partical derivative for each value in data\n",
    "        #Partial derivative respect 'm'\n",
    "        dm = -((2/n_points) * x * (y - (m*x + b)))\n",
    "        \n",
    "        #Partial derivative respect 'b'\n",
    "        db = - ((2/n_points) * (y - (m*x + b)))\n",
    "    \n",
    "        #Update gradient\n",
    "        m_grad = m_grad + dm\n",
    "        b_grad = b_grad + db\n",
    "    \n",
    "    #Set the new 'better' updated 'm' and 'b'\n",
    "    m_updated = m - stepper*m_grad\n",
    "    b_updated = b - stepper*b_grad\n",
    "    '''\n",
    "    Important note: The value '0.0001' that multiplies the 'm_grad' and 'b_grad' is the 'learning rate', but it's a concept\n",
    "    out of the scope of this challenge. For now, just leave that there and think about it like a 'smoother' of the learn, \n",
    "    to prevent overshooting, that is, an extremly fast and uncontrolled learning.\n",
    "    '''\n",
    "    \n",
    "    return m_updated,b_updated"
   ]
  },
  {
   "cell_type": "code",
   "execution_count": null,
   "metadata": {},
   "outputs": [
    {
     "name": "stdout",
     "output_type": "stream",
     "text": [
      "Starting line: y = 141.63x + 4.13 - Error: 544419547173.20\n"
     ]
    }
   ],
   "source": [
    "print('Starting line: y = %.2fx + %.2f - Error: %.2f' %(m,b,sse))\n",
    "for i in range(10000):\n",
    "    m,b = gradient_descent_step(m,b,data)\n",
    "    sse = SSE(m,b,data)\n",
    "    #print('At step %d - Line: y = %.2fx + %.2f - Error: %.2f' %(i+1,m,b,sse))\n",
    "\n",
    "print('\\nBest  line: y = %.2fx + %.2f - Error: %.2f' %(m,b,sse))\n"
   ]
  },
  {
   "cell_type": "code",
   "execution_count": null,
   "metadata": {},
   "outputs": [],
   "source": [
    "plt.scatter(X,y)\n",
    "plt.plot(X,m*X+b,color='red')\n",
    "plt.show()"
   ]
  },
  {
   "cell_type": "code",
   "execution_count": 154,
   "metadata": {},
   "outputs": [
    {
     "data": {
      "text/plain": [
       "1.3801149416034815"
      ]
     },
     "execution_count": 154,
     "metadata": {},
     "output_type": "execute_result"
    }
   ],
   "source": [
    "m"
   ]
  },
  {
   "cell_type": "code",
   "execution_count": 155,
   "metadata": {},
   "outputs": [
    {
     "data": {
      "text/plain": [
       "2.9528691360225023"
      ]
     },
     "execution_count": 155,
     "metadata": {},
     "output_type": "execute_result"
    }
   ],
   "source": [
    "b"
   ]
  },
  {
   "cell_type": "code",
   "execution_count": null,
   "metadata": {
    "collapsed": true
   },
   "outputs": [],
   "source": []
  }
 ],
 "metadata": {
  "kernelspec": {
   "display_name": "Python 3",
   "language": "python",
   "name": "python3"
  },
  "language_info": {
   "codemirror_mode": {
    "name": "ipython",
    "version": 3
   },
   "file_extension": ".py",
   "mimetype": "text/x-python",
   "name": "python",
   "nbconvert_exporter": "python",
   "pygments_lexer": "ipython3",
   "version": "3.5.3"
  }
 },
 "nbformat": 4,
 "nbformat_minor": 2
}
